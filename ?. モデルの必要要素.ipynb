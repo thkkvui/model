{
 "cells": [
  {
   "cell_type": "code",
   "execution_count": null,
   "id": "9ab67ba2",
   "metadata": {},
   "outputs": [],
   "source": []
  },
  {
   "cell_type": "markdown",
   "id": "9bcbced0",
   "metadata": {},
   "source": [
    "## モデルの必要要素"
   ]
  },
  {
   "cell_type": "markdown",
   "id": "10f966f3",
   "metadata": {},
   "source": [
    "### ?. データセット"
   ]
  },
  {
   "cell_type": "markdown",
   "id": "44cf5e90",
   "metadata": {},
   "source": [
    "### ?. データ前処理"
   ]
  },
  {
   "cell_type": "markdown",
   "id": "9efef25f",
   "metadata": {},
   "source": [
    "### ?. GPUリソースの規模"
   ]
  },
  {
   "cell_type": "markdown",
   "id": "5abdaa5a",
   "metadata": {},
   "source": [
    "### ?. 使用する言語モデル"
   ]
  },
  {
   "cell_type": "markdown",
   "id": "fb0b734f",
   "metadata": {},
   "source": [
    "### ?. 基本モデルのアーキテクチャ"
   ]
  },
  {
   "cell_type": "code",
   "execution_count": null,
   "id": "a14c7000",
   "metadata": {},
   "outputs": [],
   "source": []
  }
 ],
 "metadata": {
  "kernelspec": {
   "display_name": "Python 3 (ipykernel)",
   "language": "python",
   "name": "python3"
  },
  "language_info": {
   "codemirror_mode": {
    "name": "ipython",
    "version": 3
   },
   "file_extension": ".py",
   "mimetype": "text/x-python",
   "name": "python",
   "nbconvert_exporter": "python",
   "pygments_lexer": "ipython3",
   "version": "3.9.6"
  }
 },
 "nbformat": 4,
 "nbformat_minor": 5
}
